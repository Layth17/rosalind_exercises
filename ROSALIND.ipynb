{
 "cells": [
  {
   "cell_type": "markdown",
   "id": "cc21466e-b91a-4c3c-a539-765002ef5b84",
   "metadata": {
    "jp-MarkdownHeadingCollapsed": true,
    "tags": []
   },
   "source": [
    "### Enumerating Gene Orders"
   ]
  },
  {
   "cell_type": "code",
   "execution_count": 52,
   "id": "fca5056c-770b-4875-a8bb-40334b52cd63",
   "metadata": {},
   "outputs": [],
   "source": [
    "n = 2"
   ]
  },
  {
   "cell_type": "code",
   "execution_count": 54,
   "id": "8901c366-2505-41ac-b7fe-0d00ca615bc5",
   "metadata": {},
   "outputs": [
    {
     "name": "stdout",
     "output_type": "stream",
     "text": [
      "2\n",
      "1 2 \n",
      "2 1 \n"
     ]
    }
   ],
   "source": [
    "# permutations using library function\n",
    "from itertools import permutations\n",
    "\n",
    "# Get all permutations of [1, 2, 3]\n",
    "perm = list(permutations(range(1, n+1)))\n",
    " \n",
    "# Print the obtained permutations\n",
    "print(len(perm))\n",
    "for i in perm:\n",
    "    for x in i:\n",
    "        print(f\"{x} \", end=\"\")\n",
    "    print()"
   ]
  },
  {
   "cell_type": "markdown",
   "id": "2f9652e8-c188-45a1-b690-f0700d621917",
   "metadata": {
    "jp-MarkdownHeadingCollapsed": true,
    "tags": []
   },
   "source": [
    "### Calculating Protein Mass"
   ]
  },
  {
   "cell_type": "code",
   "execution_count": 61,
   "id": "a4f9dbab-35af-464f-aae6-8530a6a3f5a3",
   "metadata": {},
   "outputs": [],
   "source": [
    "weights = { 'A': 71.03711,\n",
    "            'C': 103.00919,\n",
    "            'D': 115.02694,\n",
    "            'E': 129.04259,\n",
    "            'F': 147.06841,\n",
    "            'G': 57.02146,\n",
    "            'H': 137.05891,\n",
    "            'I': 113.08406,\n",
    "            'K': 128.09496,\n",
    "            'L': 113.08406,\n",
    "            'M': 131.04049,\n",
    "            'N': 114.04293,\n",
    "            'P': 97.05276,\n",
    "            'Q': 128.05858,\n",
    "            'R': 156.10111,\n",
    "            'S': 87.03203,\n",
    "            'T': 101.04768,\n",
    "            'V': 99.06841,\n",
    "            'W': 186.07931,\n",
    "            'Y': 163.06333\n",
    "            }"
   ]
  },
  {
   "cell_type": "code",
   "execution_count": 78,
   "id": "d19e860d-4f6d-4329-b13b-f41da090d3bc",
   "metadata": {},
   "outputs": [
    {
     "name": "stdout",
     "output_type": "stream",
     "text": [
      "101925.699\n"
     ]
    }
   ],
   "source": [
    "protein: str = \"CKEFMIQPTCMFEKTQSLSTSWQGHNRQAQGHWYCVMACQHPASVCSALHFGQVMMTANCWEKDGYCSLFIHTCRTFANPGATLHGYFQHRMWQGRRNNCNLPPVLAVQPMNGPNLHQCGCKFHWDEPEPFRVMPKMEWYQITRQMDCLLNGECLYTATFAVGGFFMNPKMKKVVAFTMNQHCPCAHKCFVGRDCCRYRYKTGPFGIMETDRSHTASDWYVDSPERGNTHQPPAFPPQWPLWQAYSCFLFTSKVYISWAFECNRPMNYRCEIWDPIQHYKKEPEHGICPLVNIHQIRANQNMADAPHMNCWFQYQWKNCMGSFVKRIDGTFNSCVSERFFWWCPTQLFWGYNCPYNLEPSYTGDIQTWCIPFSRNIHSHCDMYGSNVFFEHYDNYGSDDPRHCIHAQRNHHITGFQDNPPWGIGYICTTQFYNREWESFIAKPLGTWQNIAFKLQMAYHDGKHRFEQDQQKKNQDFCNNEFYFFHLWVLYVFISEIMHMIAWCRHIGYMRHWEYAYLCSRCLGWGQKDHLMRMGHTFATLFTMNITHESNEMCHYGGFGFHHDGQKVCTFCQLDPNTKYGPGPSFPMNVVDKCRLQCTMHDKGMCYQLIMDFCAMIVVMWWIHYKMDMLPMYEFMIGQKWNIEMEVTPRMFSSYGYSYISYHWREMKCGMNMCMVLMNQYSTKGTLTLSVGHANLATDENMDPVCSFTCEDKHRWDRLTNCQQPCFRDDIGYPRCPYMQFITQIGPNVIQWLSPIETFMLKMVSAFYPWRMWHYLWNCVWSKNDRKFSKNWVGAISRDSSGPRCYCYPNPIQGEPHSRFNRPQGNHVQKLCQQETTVCRVMGVLIEQFFDIGNQSMDQRAG\"\n",
    "protein_weight = sum([weights[i] for i in protein])\n",
    "print(f\"{protein_weight:.3f}\")"
   ]
  },
  {
   "cell_type": "markdown",
   "id": "d33137ad-c04c-4a6b-8899-7c182ba93a15",
   "metadata": {
    "tags": []
   },
   "source": [
    "### Locating Restriction Sites"
   ]
  },
  {
   "cell_type": "code",
   "execution_count": 386,
   "id": "818b2f0b-ae16-45b7-b052-0b41fa7c5262",
   "metadata": {},
   "outputs": [],
   "source": [
    "dna: str = \"\"\"GCGCTTTTAGCCATTAACCATAGACCCCCCAGTCGCAACCCGATTTTAGTGTAGAAATGACAGCAAACTGTTATCCCC\"\"\"\n",
    "\n",
    "comp = { 'A': 'T',\n",
    "         'T': 'A',\n",
    "         'G': 'C',\n",
    "         'C': 'G' }\n",
    "\n",
    "q = \"\".join([comp[_] for _ in dna])\n",
    "\n",
    "l = 4   # lower bound substring\n",
    "u = 12  # upper bound substring"
   ]
  },
  {
   "cell_type": "code",
   "execution_count": 388,
   "id": "5ee8a837-227e-4f7a-9714-11ba41f996da",
   "metadata": {},
   "outputs": [
    {
     "name": "stdout",
     "output_type": "stream",
     "text": [
      "1\t4\n",
      "14\t4\n"
     ]
    }
   ],
   "source": [
    "# p = '241 *123* 4123433324212123412'\n",
    "# q = '132214  *321* 4344413121214321'\n",
    "# stubstring palindromes will have 123 in p and 321 in q\n",
    "# in a patter similar to the example above\n",
    "\n",
    "l = l//2\n",
    "u = u//2\n",
    "for i in range(len(dna)):\n",
    "    for t in range(l,u+1):\n",
    "        if dna[i:i+t] == q[i+t:i+t+t][::-1]:\n",
    "            print(f\"{i+1}\\t{t*2}\")"
   ]
  },
  {
   "cell_type": "code",
   "execution_count": null,
   "id": "152d2883-49dd-434d-9b5e-c0a15ba1e6d3",
   "metadata": {},
   "outputs": [],
   "source": []
  },
  {
   "cell_type": "code",
   "execution_count": null,
   "id": "a592f1a7-ed9b-490f-8d86-ceded9a2da80",
   "metadata": {},
   "outputs": [],
   "source": []
  }
 ],
 "metadata": {
  "kernelspec": {
   "display_name": "anaconda-2022.05-py39",
   "language": "python",
   "name": "conda-env-anaconda-2022.05-py39-py"
  },
  "language_info": {
   "codemirror_mode": {
    "name": "ipython",
    "version": 3
   },
   "file_extension": ".py",
   "mimetype": "text/x-python",
   "name": "python",
   "nbconvert_exporter": "python",
   "pygments_lexer": "ipython3",
   "version": "3.9.12"
  }
 },
 "nbformat": 4,
 "nbformat_minor": 5
}
